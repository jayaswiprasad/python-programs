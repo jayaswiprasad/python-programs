{
  "metadata": {
    "language_info": {
      "codemirror_mode": {
        "name": "python",
        "version": 3
      },
      "file_extension": ".py",
      "mimetype": "text/x-python",
      "name": "python",
      "nbconvert_exporter": "python",
      "pygments_lexer": "ipython3",
      "version": "3.8"
    },
    "kernelspec": {
      "name": "python",
      "display_name": "Python (Pyodide)",
      "language": "python"
    }
  },
  "nbformat_minor": 4,
  "nbformat": 4,
  "cells": [
    {
      "cell_type": "code",
      "source": "n= 5\nfor i in range(1,n+1):\n    for j in range(1,n+1):\n        print(i,end=\" \")\n    print(\"\\n\")",
      "metadata": {
        "trusted": true
      },
      "execution_count": 6,
      "outputs": [
        {
          "name": "stdout",
          "text": "1 1 1 1 1 \n\n2 2 2 2 2 \n\n3 3 3 3 3 \n\n4 4 4 4 4 \n\n5 5 5 5 5 \n\n",
          "output_type": "stream"
        }
      ]
    },
    {
      "cell_type": "code",
      "source": "n=5\nfor i in range(1,n+1):\n    for j in range(1,n+1):\n        print(n-i+1,end=\" \")\n    print(\"\\n\")",
      "metadata": {
        "trusted": true
      },
      "execution_count": 11,
      "outputs": [
        {
          "name": "stdout",
          "text": "5 5 5 5 5 \n\n4 4 4 4 4 \n\n3 3 3 3 3 \n\n2 2 2 2 2 \n\n1 1 1 1 1 \n\n",
          "output_type": "stream"
        }
      ]
    },
    {
      "cell_type": "code",
      "source": "n=5\nfor i in range(n,0,-1):\n    for j in range(n,0,-1):\n        print(i,end=\" \")\n    print(\"\\n\")",
      "metadata": {
        "trusted": true
      },
      "execution_count": 12,
      "outputs": [
        {
          "name": "stdout",
          "text": "5 5 5 5 5 \n\n4 4 4 4 4 \n\n3 3 3 3 3 \n\n2 2 2 2 2 \n\n1 1 1 1 1 \n\n",
          "output_type": "stream"
        }
      ]
    },
    {
      "cell_type": "code",
      "source": "n=4\nfor i in range(1,n+1):\n    for j in range(1,i+1):\n        print(j,end=\" \")\n    print(\"\\n\")\n    ",
      "metadata": {
        "trusted": true
      },
      "execution_count": 22,
      "outputs": [
        {
          "name": "stdout",
          "text": "1 \n\n1 2 \n\n1 2 3 \n\n1 2 3 4 \n\n",
          "output_type": "stream"
        }
      ]
    },
    {
      "cell_type": "code",
      "source": "n=5\nfor i in range(n,0,-1):\n    for j in range(i,0,-1):\n        print(j,end=' ')\n    print(\"\\n\")",
      "metadata": {
        "trusted": true
      },
      "execution_count": 30,
      "outputs": [
        {
          "name": "stdout",
          "text": "5 4 3 2 1 \n\n4 3 2 1 \n\n3 2 1 \n\n2 1 \n\n1 \n\n",
          "output_type": "stream"
        }
      ]
    },
    {
      "cell_type": "code",
      "source": "n=5\nfor i in range(n,0,-1):\n    for j in  range(n-i):\n        print(\" \",end=\" \")\n    for k in range(i,0,-1):\n        print(k,end=' ')\n    print()",
      "metadata": {
        "trusted": true
      },
      "execution_count": 46,
      "outputs": [
        {
          "name": "stdout",
          "text": "5 4 3 2 1 \n  4 3 2 1 \n    3 2 1 \n      2 1 \n        1 \n",
          "output_type": "stream"
        }
      ]
    },
    {
      "cell_type": "code",
      "source": "n=3\nfor i in range(1,n+1):\n    for j in range(n-i,0,-1):\n        print(\" \",end=\" \")\n    for k in range(1,i*2):\n        print(k,end=\" \")\n    print('\\n')",
      "metadata": {
        "trusted": true
      },
      "execution_count": 55,
      "outputs": [
        {
          "name": "stdout",
          "text": "    1 \n\n  1 2 3 \n\n1 2 3 4 5 \n\n",
          "output_type": "stream"
        }
      ]
    },
    {
      "cell_type": "code",
      "source": "",
      "metadata": {},
      "execution_count": null,
      "outputs": []
    }
  ]
}